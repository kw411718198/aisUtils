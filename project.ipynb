{
 "cells": [
  {
   "cell_type": "code",
   "execution_count": 2,
   "metadata": {},
   "outputs": [],
   "source": [
    "# 出一个舟山北部水域的航迹图\n",
    "# 已解析数据-舟山北部数据-1月\n",
    "\n",
    "import os\n",
    "\n",
    "def file_name(file_dir):\n",
    "    L = []\n",
    "    for root, dirs, files in os.walk(file_dir):  \n",
    "        for file in files:  \n",
    "            L.append(os.path.join(root, file))  \n",
    "    return L \n",
    "\n",
    "# 读取当前路径下的所有txt文件\n",
    "path = '.\\\\test_folder'\n",
    "path1 = 'E:\\\\已解析AIS数据\\\\舟山北部水域\\\\1月上'\n",
    "path2 = 'E:\\\\已解析AIS数据\\\\舟山北部水域\\\\1月下'\n",
    "\n",
    "L = file_name(path1) + file_name(path2)"
   ]
  },
  {
   "cell_type": "code",
   "execution_count": 3,
   "metadata": {},
   "outputs": [
    {
     "data": {
      "text/plain": [
       "30688026"
      ]
     },
     "execution_count": 3,
     "metadata": {},
     "output_type": "execute_result"
    }
   ],
   "source": [
    "# 整理所有的经纬度和MMSI\n",
    "X = []\n",
    "Y = []\n",
    "MMSI = []\n",
    "#range后改成15\n",
    "for i in range(15):\n",
    "    f = open(L[i])\n",
    "    for line in f.readlines():\n",
    "        data = line.split(',')\n",
    "        MMSI.append(data[1])\n",
    "        X.append(float(data[2]))\n",
    "        Y.append(float(data[3]))\n",
    "\n",
    "\n",
    "length = len(MMSI)\n",
    "length #30688026"
   ]
  },
  {
   "cell_type": "code",
   "execution_count": 4,
   "metadata": {},
   "outputs": [],
   "source": [
    "# 根据14个bound开始MMSI匹配\n",
    "MMSI_bound = []\n",
    "for i in range(14):\n",
    "    MMSI_bound.append([])\n",
    "\n",
    "# 匹配函数\n",
    "def isinpolygon(point,vertex_lst:list, contain_boundary=True):\n",
    "    #检测点是否位于区域外接矩形内\n",
    "    lngaxis, lataxis = zip(*vertex_lst)\n",
    "    minlng, maxlng = min(lngaxis),max(lngaxis)\n",
    "    minlat, maxlat = min(lataxis),max(lataxis)\n",
    "    lng, lat = point\n",
    "    if contain_boundary:      \n",
    "        isin = (minlng<=lng<=maxlng) & (minlat<=lat<=maxlat)\n",
    "    else:\n",
    "        isin = (minlng<lng<maxlng) & (minlat<lat<maxlat)\n",
    "    return isin\n",
    "\n",
    "def isintersect(poi,spoi,epoi):\n",
    "    #输入：判断点，边起点，边终点，都是[lng,lat]格式数组\n",
    "    #射线为向东的纬线\n",
    "    #可能存在的bug，当区域横跨本初子午线或180度经线的时候可能有问题\n",
    "    lng, lat = poi\n",
    "    slng, slat = spoi\n",
    "    elng, elat = epoi\n",
    "    if poi == spoi:\n",
    "        #print(\"在顶点上\")\n",
    "        return None\n",
    "    if slat==elat: #排除与射线平行、重合，线段首尾端点重合的情况\n",
    "        return False\n",
    "    if slat>lat and elat>lat: #线段在射线上边\n",
    "        return False\n",
    "    if slat<lat and elat<lat: #线段在射线下边\n",
    "        return False\n",
    "    if slat==lat and elat>lat: #交点为下端点，对应spoint\n",
    "        return False\n",
    "    if elat==lat and slat>lat: #交点为下端点，对应epoint\n",
    "        return False\n",
    "    if slng<lng and elat<lat: #线段在射线左边\n",
    "        return False\n",
    "    #求交点\n",
    "    xseg=elng-(elng-slng)*(elat-lat)/(elat-slat)\n",
    "    if xseg == lng:\n",
    "        #print(\"点在多边形的边上\")\n",
    "        return None\n",
    "    if xseg<lng: #交点在射线起点的左侧\n",
    "        return False\n",
    "    return True  #排除上述情况之后\n",
    "\n",
    "def isin_multipolygon(poi,vertex_lst, contain_boundary=True): \n",
    "    # 判断是否在外包矩形内，如果不在，直接返回false    \n",
    "    if not isinpolygon(poi, vertex_lst, contain_boundary):\n",
    "        return False\n",
    "    sinsc = 0        \n",
    "    for spoi, epoi in zip(vertex_lst[:-1],vertex_lst[1::]):\n",
    "        intersect = isintersect(poi, spoi, epoi)\n",
    "        if intersect is None:\n",
    "            return (False, True)[contain_boundary]\n",
    "        elif intersect:\n",
    "            sinsc+=1          \n",
    "    return sinsc%2==1\n",
    "\n",
    "def inStrict(poi,MMSI):\n",
    "    '''\n",
    "    poi是当前的点坐标，i是当前区域的选择\n",
    "    '''\n",
    "    # 14个bound\n",
    "    bound = [\n",
    "        [[30.4729,122.5297],[30.4635,122.5420],[30.4374,122.5400],[30.4499,122.5818],[30.4729,122.5297]],  #区域1\n",
    "        [[30.4504,122.6381],[30.4504,122.6924],[30.4303,122.6281],[30.4303,122.6381],[30.4504,122.6381]],  #区域2\n",
    "        [[30.4990,122.4294],[30.4990,122.4610],[30.4854,122.4301],[30.4854,122.4610],[30.4990,122.4294]],  #区域3\n",
    "        [[30.4368,122.4322],[30.4368,122.4514],[30.4309,122.4322],[30.4309,122.5414],[30.4368,122.4322]],  #区域4\n",
    "        [[30.4398,122.4253],[30.4339,122.4391],[30.4410,122.4267],[30.4351,122.4404],[30.4398,122.4253]],  #区域5\n",
    "        [[30.4161,122.4233],[30.4232,122.4270],[30.4173,122.4288],[30.4232,122.4397],[30.4161,122.4233]],  #区域6\n",
    "        [[30.3918,122.4343],[30.3918,122.4597],[30.3847,122.4343],[30.3847,422.4597],[30.3918,122.4343]],  #区域7\n",
    "        [[30.4179,122.5050],[30.4291,122.5160],[30.4185,122.5029],[30.4303,122.5160],[30.4179,122.5050]],  #区域8\n",
    "        [[30.4037,122.5009],[30.3871,122.5105],[30.4031,122.5002],[30.3841,122.5098],[30.4037,122.5009]],  #区域9\n",
    "        [[30.4291,122.5359],[30.4090,122.5537],[30.4268,122.5345],[30.4078,122.5476],[30.4291,122.5359]],  #区域10\n",
    "        [[30.4268,122.6897],[30.4457,122.7075],[30.4262,122.6862],[30.4516,122.6979],[30.4268,122.6897]],  #区域11\n",
    "        [[30.5357,122.4370],[30.5357,122.4343],[30.5179,122.4370],[30.5215,122.4343],[30.5357,122.4370]],  #区域12\n",
    "        [[30.3770,122.7700],[30.3723,122.8290],[30.3670,122.7837],[30.3652,122.8290],[30.3770,122.7700]],  #区域13\n",
    "        [[30.3658,122.5688],[30.3640,122.6045],[30.3616,122.5516],[30.3572,122.6045],[30.3658,122.5688]]   #区域14\n",
    "    ]\n",
    "\n",
    "    for i in range(14):\n",
    "        if isin_multipolygon(poi,bound[i], contain_boundary=True):\n",
    "            #print(\"I am in!\")\n",
    "            # 将当前的MMSI添加进对应list\n",
    "            MMSI_bound[i].append(MMSI)\n",
    "\n",
    "for i in range(length):\n",
    "    inStrict([Y[i],X[i]], MMSI[i])"
   ]
  },
  {
   "cell_type": "code",
   "execution_count": 5,
   "metadata": {},
   "outputs": [
    {
     "name": "stdout",
     "output_type": "stream",
     "text": [
      "0 : 14257\n",
      "1 : 9983\n",
      "2 : 7322\n",
      "3 : 3122\n",
      "4 : 5047\n",
      "5 : 146\n",
      "6 : 1639\n",
      "7 : 24\n",
      "8 : 1258\n",
      "9 : 3056\n",
      "10 : 552\n",
      "11 : 1845\n",
      "12 : 6074\n",
      "13 : 3617\n"
     ]
    }
   ],
   "source": [
    "# 输出每个区域的船舶数量\n",
    "for i in range(14):\n",
    "    print(str(i) + \" : \" + str(len(MMSI_bound[i])))"
   ]
  },
  {
   "cell_type": "code",
   "execution_count": 19,
   "metadata": {},
   "outputs": [
    {
     "name": "stdout",
     "output_type": "stream",
     "text": [
      "区域1匹配率：0.9414322788805499\n",
      "区域2匹配率：0.9399979965942101\n",
      "区域3匹配率：0.8791313848675225\n",
      "区域4匹配率：0.8526585522101218\n",
      "区域5匹配率：0.9750346740638003\n",
      "区域6匹配率：0.9383561643835616\n",
      "区域7匹配率：0.8926174496644296\n",
      "区域8匹配率：0.9166666666666666\n",
      "区域9匹配率：0.958664546899841\n",
      "区域10匹配率：0.955824607329843\n",
      "区域11匹配率：0.9311594202898551\n",
      "区域12匹配率：0.8428184281842819\n",
      "区域13匹配率：0.31824168587421797\n",
      "区域14匹配率：0.9239701410008294\n"
     ]
    }
   ],
   "source": [
    "# 匹配代码——希望一次就能成功过80%大关！！！\n",
    "# 读取静态表格\n",
    "import csv\n",
    "import pandas as pd\n",
    "\n",
    "path2 = r'./mmsi.csv'\n",
    "\n",
    "datas = pd.read_csv(path2)\n",
    "data = datas.values\n",
    "\n",
    "olength = data.shape[0]\n",
    "\n",
    "for i in range(14):\n",
    "    num = 0 #区域匹配计数\n",
    "    filename = \".\\\\OUTPUT\\\\Bound_\" + str(i+1) + \".csv\"\n",
    "    #print(filename)\n",
    "    ff = open(filename,'a',encoding='utf-8',newline='' \"\")\n",
    "    # 2. 基于文件对象构建 csv写入对象\n",
    "    csv_writer = csv.writer(ff)\n",
    "    # 3. 构建列表头\n",
    "    csv_writer.writerow([\"MMSI\", \"shiptype\",\"length\",\"width\"])\n",
    "    # 下方之后修改成循环写入\n",
    "    #MMSI_b = list(set(MMSI_bound[i]))\n",
    "    MMSI_b = MMSI_bound[i]\n",
    "    mlength = len(MMSI_b)\n",
    "    #print(mlength)\n",
    "    for j in range(mlength):\n",
    "        flag = 1\n",
    "        for k in range(olength):\n",
    "            try:\n",
    "                if int(MMSI_b[j]) == int(data[k][0]):\n",
    "                    #print(\"bingo!\")\n",
    "                    num += 1\n",
    "                    csv_writer.writerow([int(data[k][0]), data[k][1], data[k][2], data[k][3]])\n",
    "                    flag = 0\n",
    "                    break\n",
    "            except:\n",
    "                continue\n",
    "        if flag:\n",
    "            csv_writer.writerow([MMSI_b[j]])\n",
    "    print(\"区域\" + str(i+1) + \"匹配率：\" + str(num/mlength))\n",
    "    ff.close()\n"
   ]
  },
  {
   "cell_type": "code",
   "execution_count": 20,
   "metadata": {},
   "outputs": [
    {
     "name": "stdout",
     "output_type": "stream",
     "text": [
      "第1个区域：[52, 67, 9341, 198, 4599]\n",
      "第2个区域：[9, 379, 2821, 1398, 5376]\n",
      "第3个区域：[110, 0, 2508, 74, 4630]\n",
      "第4个区域：[39, 2, 870, 37, 2174]\n",
      "第5个区域：[16, 61, 231, 39, 4700]\n",
      "第6个区域：[3, 0, 17, 0, 126]\n",
      "第7个区域：[38, 0, 343, 139, 1119]\n",
      "第8个区域：[0, 0, 16, 0, 8]\n",
      "第9个区域：[0, 0, 568, 72, 618]\n",
      "第10个区域：[4, 0, 1349, 39, 1664]\n",
      "第11个区域：[7, 5, 36, 43, 461]\n",
      "第12个区域：[4, 0, 605, 58, 1178]\n",
      "第13个区域：[31, 0, 142, 18, 5883]\n",
      "第14个区域：[28, 1, 2781, 144, 663]\n"
     ]
    }
   ],
   "source": [
    "# 船型统计\n",
    "temp = 14\n",
    "for j in range(temp):\n",
    "    # 初始化统计list\n",
    "    list = [0 for i in range(5)]\n",
    "    filename = \".\\\\OUTPUT\\\\Bound_\" + str(j+1) + \".csv\"\n",
    "    datas = pd.read_csv(filename)\n",
    "    data = datas.values\n",
    "    tlength = data.shape[0]\n",
    "    for i in range(tlength):\n",
    "        #print(data[i][1])\n",
    "        if data[i][1] == 0:\n",
    "            list[0] += 1\n",
    "        elif 80 <= data[i][1] and data[i][1] <= 89:\n",
    "            list[3] += 1\n",
    "        elif 70 <= data[i][1] and data[i][1] <= 79:\n",
    "            list[2] += 1\n",
    "        elif 60 <= data[i][1] and data[i][1] <= 69:\n",
    "            list[1] += 1\n",
    "        else:\n",
    "            list[4] += 1\n",
    "    print(\"第\" + str(j+1) + \"个区域：\" + str(list))  \n"
   ]
  },
  {
   "cell_type": "code",
   "execution_count": 9,
   "metadata": {},
   "outputs": [
    {
     "name": "stdout",
     "output_type": "stream",
     "text": [
      "[0, 0, 0, 0, 0]\n"
     ]
    }
   ],
   "source": [
    "list = [0 for i in range(5)]\n",
    "print(list)"
   ]
  },
  {
   "cell_type": "code",
   "execution_count": 1,
   "metadata": {},
   "outputs": [
    {
     "ename": "NameError",
     "evalue": "name 'X' is not defined",
     "output_type": "error",
     "traceback": [
      "\u001b[1;31m---------------------------------------------------------------------------\u001b[0m",
      "\u001b[1;31mNameError\u001b[0m                                 Traceback (most recent call last)",
      "\u001b[1;32m~\\AppData\\Local\\Temp/ipykernel_56740/3639058903.py\u001b[0m in \u001b[0;36m<module>\u001b[1;34m\u001b[0m\n\u001b[0;32m     10\u001b[0m \u001b[0max\u001b[0m \u001b[1;33m=\u001b[0m\u001b[0mplt\u001b[0m\u001b[1;33m.\u001b[0m\u001b[0msubplot\u001b[0m\u001b[1;33m(\u001b[0m\u001b[1;36m111\u001b[0m\u001b[1;33m)\u001b[0m\u001b[1;33m\u001b[0m\u001b[1;33m\u001b[0m\u001b[0m\n\u001b[0;32m     11\u001b[0m \u001b[1;31m# 绘制散点\u001b[0m\u001b[1;33m\u001b[0m\u001b[1;33m\u001b[0m\u001b[0m\n\u001b[1;32m---> 12\u001b[1;33m \u001b[0max\u001b[0m\u001b[1;33m.\u001b[0m\u001b[0mscatter\u001b[0m\u001b[1;33m(\u001b[0m\u001b[0mX\u001b[0m\u001b[1;33m[\u001b[0m\u001b[1;33m:\u001b[0m\u001b[1;36m1000\u001b[0m\u001b[1;33m]\u001b[0m\u001b[1;33m,\u001b[0m\u001b[0mY\u001b[0m\u001b[1;33m[\u001b[0m\u001b[1;33m:\u001b[0m\u001b[1;36m1000\u001b[0m\u001b[1;33m]\u001b[0m\u001b[1;33m,\u001b[0m\u001b[0mc\u001b[0m\u001b[1;33m=\u001b[0m\u001b[1;34m'r'\u001b[0m\u001b[1;33m,\u001b[0m\u001b[0ms\u001b[0m\u001b[1;33m=\u001b[0m\u001b[1;36m10\u001b[0m\u001b[1;33m,\u001b[0m\u001b[0mmarker\u001b[0m\u001b[1;33m=\u001b[0m\u001b[1;34m'v'\u001b[0m\u001b[1;33m)\u001b[0m\u001b[1;33m\u001b[0m\u001b[1;33m\u001b[0m\u001b[0m\n\u001b[0m\u001b[0;32m     13\u001b[0m \u001b[0mplt\u001b[0m\u001b[1;33m.\u001b[0m\u001b[0msca\u001b[0m\u001b[1;33m(\u001b[0m\u001b[0max\u001b[0m\u001b[1;33m)\u001b[0m\u001b[1;33m\u001b[0m\u001b[1;33m\u001b[0m\u001b[0m\n\u001b[0;32m     14\u001b[0m \u001b[1;31m#添加地图底图\u001b[0m\u001b[1;33m\u001b[0m\u001b[1;33m\u001b[0m\u001b[0m\n",
      "\u001b[1;31mNameError\u001b[0m: name 'X' is not defined"
     ]
    },
    {
     "data": {
      "image/png": "[encoded data removed]",
      "text/plain": [
       "<Figure size 1800x1200 with 1 Axes>"
      ]
     },
     "metadata": {
      "needs_background": "light"
     },
     "output_type": "display_data"
    }
   ],
   "source": [
    "#！！！！！我终于画完底图了\n",
    "#定义显示范围范围\n",
    "bounds = [121.9043,30.2666,122.973,30.81413]\n",
    "\n",
    "#创建图框\n",
    "import matplotlib.pyplot as plt\n",
    "import plot_map\n",
    "\n",
    "fig =plt.figure(1,(180,120),dpi=10)\n",
    "ax =plt.subplot(111)\n",
    "# 绘制散点\n",
    "ax.scatter(X[:1000],Y[:1000],c='r',s=10,marker='v')\n",
    "plt.sca(ax)\n",
    "#添加地图底图\n",
    "plot_map.plot_map(plt,bounds,zoom = 12,style = 4)\n",
    "plt.scatter(X,Y,c='cornflowerblue',alpha=0.01)\n",
    "#添加比例尺和指北针\n",
    "plot_map.plotscale(ax,bounds = bounds,textsize = 10,compasssize = 1,accuracy = 2000,rect = [0.06,0.03],zorder = 10)\n",
    "#plt.axis('off')\n",
    "plt.xlabel('Lon')\n",
    "plt.ylabel('Lat')\n",
    "plt.xlim(bounds[0],bounds[2])\n",
    "plt.ylim(bounds[1],bounds[3])\n",
    "plt.show()"
   ]
  }
 ],
 "metadata": {
  "kernelspec": {
   "display_name": "Python 3.9.8 64-bit",
   "language": "python",
   "name": "python3"
  },
  "language_info": {
   "codemirror_mode": {
    "name": "ipython",
    "version": 3
   },
   "file_extension": ".py",
   "mimetype": "text/x-python",
   "name": "python",
   "nbconvert_exporter": "python",
   "pygments_lexer": "ipython3",
   "version": "3.9.8"
  },
  "orig_nbformat": 4,
  "vscode": {
   "interpreter": {
    "hash": "3c735adcabe6fbc37afe7ca3389fd3961f4864c18377415bd09ec533cf51b765"
   }
  }
 },
 "nbformat": 4,
 "nbformat_minor": 2
}
